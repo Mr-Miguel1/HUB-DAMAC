{
 "cells": [
  {
   "cell_type": "code",
   "execution_count": 1,
   "id": "gorgeous-trustee",
   "metadata": {},
   "outputs": [],
   "source": [
    "%config Completer.use_jedi = False"
   ]
  },
  {
   "cell_type": "code",
   "execution_count": 2,
   "id": "constitutional-patrol",
   "metadata": {},
   "outputs": [],
   "source": [
    "from HUB import actualizar_mercado_laboral"
   ]
  },
  {
   "cell_type": "code",
   "execution_count": 3,
   "id": "announced-burden",
   "metadata": {},
   "outputs": [],
   "source": [
    "actualizar_mercado_laboral(hipervinculos=True,\n",
    "                   carpeta=r\"D:\\Desktop\\informalidad\",\n",
    "                   actualizar_todo=False,\n",
    "                   indicadores=['Informalidad'],\n",
    "                   excel=True,t=10)"
   ]
  },
  {
   "cell_type": "code",
   "execution_count": null,
   "id": "muslim-nickname",
   "metadata": {},
   "outputs": [],
   "source": [
    "mercado_laboral()"
   ]
  }
 ],
 "metadata": {
  "kernelspec": {
   "display_name": "hubdamac",
   "language": "python",
   "name": "hubdamac"
  },
  "language_info": {
   "codemirror_mode": {
    "name": "ipython",
    "version": 3
   },
   "file_extension": ".py",
   "mimetype": "text/x-python",
   "name": "python",
   "nbconvert_exporter": "python",
   "pygments_lexer": "ipython3",
   "version": "3.7.5"
  },
  "toc": {
   "base_numbering": 1,
   "nav_menu": {},
   "number_sections": true,
   "sideBar": true,
   "skip_h1_title": false,
   "title_cell": "Table of Contents",
   "title_sidebar": "Contents",
   "toc_cell": false,
   "toc_position": {},
   "toc_section_display": true,
   "toc_window_display": false
  },
  "varInspector": {
   "cols": {
    "lenName": 16,
    "lenType": 16,
    "lenVar": 40
   },
   "kernels_config": {
    "python": {
     "delete_cmd_postfix": "",
     "delete_cmd_prefix": "del ",
     "library": "var_list.py",
     "varRefreshCmd": "print(var_dic_list())"
    },
    "r": {
     "delete_cmd_postfix": ") ",
     "delete_cmd_prefix": "rm(",
     "library": "var_list.r",
     "varRefreshCmd": "cat(var_dic_list()) "
    }
   },
   "types_to_exclude": [
    "module",
    "function",
    "builtin_function_or_method",
    "instance",
    "_Feature"
   ],
   "window_display": false
  }
 },
 "nbformat": 4,
 "nbformat_minor": 5
}
