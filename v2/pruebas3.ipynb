{
 "cells": [
  {
   "cell_type": "code",
   "execution_count": 1,
   "id": "roman-entrepreneur",
   "metadata": {},
   "outputs": [],
   "source": [
    "from HUB import HUB_DAMAC"
   ]
  },
  {
   "cell_type": "code",
   "execution_count": 25,
   "id": "naked-bennett",
   "metadata": {},
   "outputs": [],
   "source": [
    "%config Completer.use_jedi = False"
   ]
  },
  {
   "cell_type": "code",
   "execution_count": 15,
   "id": "serious-internet",
   "metadata": {},
   "outputs": [],
   "source": [
    "from scrap import scraping_BR"
   ]
  },
  {
   "cell_type": "code",
   "execution_count": 22,
   "id": "rising-ecuador",
   "metadata": {},
   "outputs": [],
   "source": [
    "indicadores = [\n",
    " 'Flujo de Inversión Extranjera Directa en Colombia',\n",
    " 'Flujo de Inversión Extranjera Directa en Comercio, Restaurantes y Hoteles',\n",
    " 'Flujo de Inversión Extranjera Directa en Construcción',\n",
    " 'Flujo de Inversión Extranjera Directa en Electricidad, Gas y Agua',\n",
    " 'Flujo de Inversión Extranjera Directa en Industria',\n",
    " 'Flujo de Inversión Extranjera Directa en Sector Minero (no incluye Petróleo)',\n",
    " 'Flujo de Inversión Extranjera Directa en Sector Petrolero','Flujo de Inversión Extranjera Directa en Servicios Comunales, Sociales y Personales',\n",
    " 'Flujo de Inversión Extranjera Directa en Servicios Financieros y Empresariales',\n",
    " 'Flujo de Inversión Extranjera Directa en Transportes, Almacenamiento y Comunicaciones','Serie agregada de Remesas de trabajadores',\n",
    "   'Balanza Comercial de Bienes y Servicios',\n",
    " 'Cuenta Corriente',\n",
    " 'Cuenta corriente, porcentaje del PIB',\n",
    " 'Cuenta Financiera, balanza de pagos',\n",
    " 'Exportaciones totales (Bienes), Balanza de pagos','Importaciones totales (Bienes), Balanza de pagos']"
   ]
  },
  {
   "cell_type": "code",
   "execution_count": 23,
   "id": "aboriginal-burns",
   "metadata": {},
   "outputs": [],
   "source": [
    "for i in indicadores:\n",
    "    pib = scraping_BR(tiempo=5,area=14,\n",
    "                  indicador=i,\n",
    "                  path = r\"D:\\Desktop\\PGN\\Sector externo\",\n",
    "                 )"
   ]
  },
  {
   "cell_type": "code",
   "execution_count": 26,
   "id": "consolidated-connection",
   "metadata": {},
   "outputs": [],
   "source": [
    "from excel import guardar_excel\n",
    "import pandas as pd\n",
    "import numpy as np"
   ]
  },
  {
   "cell_type": "code",
   "execution_count": 28,
   "id": "afraid-division",
   "metadata": {},
   "outputs": [],
   "source": [
    "f = pd.DataFrame({\"BANREP\":[\"https://totoro.banrep.gov.co/estadisticas-economicas/\"]})"
   ]
  },
  {
   "cell_type": "code",
   "execution_count": 30,
   "id": "going-blowing",
   "metadata": {},
   "outputs": [],
   "source": [
    "excel = guardar_excel(hyperlinks=True,  nombre_archivo=\"hub_sector_externo\",\n",
    "                    Fuente = f,carpeta_origen=r\"D:\\Desktop\\PGN\\Sector externo\",carpeta_destino=r\"D:\\Desktop\\PGN\",\n",
    "                     )"
   ]
  },
  {
   "cell_type": "code",
   "execution_count": null,
   "id": "collect-bacon",
   "metadata": {},
   "outputs": [],
   "source": []
  },
  {
   "cell_type": "code",
   "execution_count": 4,
   "id": "demanding-titanium",
   "metadata": {},
   "outputs": [],
   "source": [
    "# laboral = HUB_DAMAC.mercado_laboral()"
   ]
  },
  {
   "cell_type": "code",
   "execution_count": 5,
   "id": "rotary-mechanism",
   "metadata": {},
   "outputs": [],
   "source": [
    "# laboral.indicadores_mercado_laboral"
   ]
  },
  {
   "cell_type": "code",
   "execution_count": 3,
   "id": "reverse-liberty",
   "metadata": {},
   "outputs": [],
   "source": [
    "# laboral.actualizar(carpeta=r\"D:\\Desktop\\Mercado Laboral\",\n",
    "#                    actualizar_todo=True,\n",
    "#                    excel = True,\n",
    "#                    hipervinculos=True,t=15)"
   ]
  },
  {
   "cell_type": "code",
   "execution_count": null,
   "id": "variable-settle",
   "metadata": {},
   "outputs": [],
   "source": []
  },
  {
   "cell_type": "code",
   "execution_count": null,
   "id": "wireless-bandwidth",
   "metadata": {},
   "outputs": [],
   "source": [
    "import numpy as np"
   ]
  },
  {
   "cell_type": "markdown",
   "id": "extra-arnold",
   "metadata": {},
   "source": [
    "***\n",
    "___"
   ]
  },
  {
   "cell_type": "code",
   "execution_count": null,
   "id": "cloudy-warrior",
   "metadata": {},
   "outputs": [],
   "source": [
    "str(np.random.randint(100,999,1)[0])"
   ]
  },
  {
   "cell_type": "code",
   "execution_count": null,
   "id": "spread-cooper",
   "metadata": {},
   "outputs": [],
   "source": [
    "l[10:40]"
   ]
  },
  {
   "cell_type": "code",
   "execution_count": null,
   "id": "outdoor-clear",
   "metadata": {},
   "outputs": [],
   "source": [
    "len(l[10:40])"
   ]
  },
  {
   "cell_type": "code",
   "execution_count": null,
   "id": "dimensional-equation",
   "metadata": {},
   "outputs": [],
   "source": [
    "l[:10] + l[20:30] + l[-20:-4]"
   ]
  }
 ],
 "metadata": {
  "kernelspec": {
   "display_name": "hubdamac",
   "language": "python",
   "name": "hubdamac"
  },
  "language_info": {
   "codemirror_mode": {
    "name": "ipython",
    "version": 3
   },
   "file_extension": ".py",
   "mimetype": "text/x-python",
   "name": "python",
   "nbconvert_exporter": "python",
   "pygments_lexer": "ipython3",
   "version": "3.7.5"
  },
  "toc": {
   "base_numbering": 1,
   "nav_menu": {},
   "number_sections": true,
   "sideBar": true,
   "skip_h1_title": false,
   "title_cell": "Table of Contents",
   "title_sidebar": "Contents",
   "toc_cell": false,
   "toc_position": {},
   "toc_section_display": true,
   "toc_window_display": false
  },
  "varInspector": {
   "cols": {
    "lenName": 16,
    "lenType": 16,
    "lenVar": 40
   },
   "kernels_config": {
    "python": {
     "delete_cmd_postfix": "",
     "delete_cmd_prefix": "del ",
     "library": "var_list.py",
     "varRefreshCmd": "print(var_dic_list())"
    },
    "r": {
     "delete_cmd_postfix": ") ",
     "delete_cmd_prefix": "rm(",
     "library": "var_list.r",
     "varRefreshCmd": "cat(var_dic_list()) "
    }
   },
   "types_to_exclude": [
    "module",
    "function",
    "builtin_function_or_method",
    "instance",
    "_Feature"
   ],
   "window_display": false
  }
 },
 "nbformat": 4,
 "nbformat_minor": 5
}
