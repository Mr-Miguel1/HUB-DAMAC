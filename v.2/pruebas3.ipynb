{
 "cells": [
  {
   "cell_type": "code",
   "execution_count": 7,
   "id": "earned-reliance",
   "metadata": {},
   "outputs": [],
   "source": [
    "%config Completer.use_jedi = False\n",
    "import pandas as pd\n",
    "import numpy as np\n",
    "\n",
    "from openpyxl import Workbook\n",
    "from openpyxl.utils import get_column_letter\n",
    "from openpyxl.utils.dataframe import dataframe_to_rows\n",
    "from openpyxl import load_workbook\n",
    "\n",
    "\n",
    "import xlrd\n",
    "import os"
   ]
  },
  {
   "cell_type": "code",
   "execution_count": 2,
   "id": "prescribed-ribbon",
   "metadata": {},
   "outputs": [],
   "source": [
    "def clean_desempleo_empleo_mensual(path):\n",
    "    try:\n",
    "        archivos = pd.Series(os.listdir(path))\n",
    "        dane_des_emp_mensual_nombre = archivos[archivos.str.contains('anexo_desestacionalizado_empleo')][0]\n",
    "\n",
    "        for i in archivos:\n",
    "            if i ==  dane_des_emp_mensual_nombre:\n",
    "                try:\n",
    "                    data = load_workbook(path+\"\\{}\".format(i))\n",
    "                    sheets = pd.Series(data.sheetnames).str.lower()\n",
    "                    tnal_mensual_index = sheets[sheets.str.contains('tnal mensual')].index[0]\n",
    "                except:\n",
    "                    data = xlrd.open_workbook_xls(path+\"\\{}\".format(i))\n",
    "                    sheets = pd.Series(data.sheet_names()).str.lower()\n",
    "                    tnal_mensual_index = sheets[sheets.str.contains('tnal mensual')].index[0]\n",
    "\n",
    "                df = pd.read_excel(path+\"\\{}\".format(i),sheet_name=tnal_mensual_index)\n",
    "\n",
    "                ind = ['tgp','to','td','ocupados','desocupados','inactivos']\n",
    "                series = pd.DataFrame({})\n",
    "                for i in ind:\n",
    "                    ser_index = df[df.applymap(lambda x: str(x).lower() == i)].dropna(how='all',axis=0).index[0]\n",
    "                    ser = df.iloc[ser_index,1:].rename(i)\n",
    "                    if i == 'ocupados' or i == 'desocupados' or i == 'inactivos':\n",
    "                        ser = ser.set_axis(pd.date_range(start='2001-01-01',periods=len(ser),freq='M')).astype('float')*1000      \n",
    "                    else:\n",
    "                        ser = ser.set_axis(pd.date_range(start='2001-01-01',periods=len(ser),freq='M')).astype('float')\n",
    "\n",
    "                    series[i] = ser\n",
    "        \n",
    "        series.to_csv(path+\"\\desempleo_desest_mensual.csv\",sep=';',decimal=',')\n",
    "        os.remove(path+'\\{}'.format(dane_des_emp_mensual_nombre))\n",
    "        \n",
    "    except:\n",
    "        print('El : {} no se pudo limpiar correctamente'.format(dane_des_emp_mensual_nombre))\n",
    "        pass"
   ]
  },
  {
   "cell_type": "code",
   "execution_count": 17,
   "id": "neural-confidentiality",
   "metadata": {},
   "outputs": [],
   "source": [
    "def clean_desempleo_empleo_sexo(path):\n",
    "    archivos = pd.Series(os.listdir(path))\n",
    "    dane_sexo_nombre = archivos[archivos.str.contains('anexo_sexo_')][0]\n",
    "\n",
    "    for i in archivos:\n",
    "        if i == dane_sexo_nombre:\n",
    "            try: \n",
    "                data = load_workbook(path+\"\\{}\".format(i))\n",
    "                sheets = data.sheetnames\n",
    "            except:\n",
    "                data = xlrd.open_workbook_xls(path+\"\\{}\".format(i))\n",
    "                sheets = data.sheet_names()\n",
    "\n",
    "            sheets = pd.Series(sheets).str.lower().str.replace(' ','')\n",
    "            tnal_nacional_sexo_index = sheets[sheets.str.contains('pytn')].index[0]\n",
    "\n",
    "            df = pd.read_excel(path+\"\\{}\".format(i),sheet_name=tnal_nacional_sexo_index)\n",
    "\n",
    "\n",
    "            ind = [i.lower().replace(' ','_') for i in pd.Series(\"\"\"% población en edad de trabajar \n",
    "TGP\n",
    "TO\n",
    "TD\n",
    "T.D. Abierto\n",
    "T.D. Oculto\n",
    "Población total\n",
    "Población en edad de trabajar\n",
    "Población económicamente activa\n",
    "Ocupados\n",
    "Desocupados\n",
    "Abiertos\n",
    "Ocultos\n",
    "Inactivos\"\"\").str.split('\\n')[0]]\n",
    "\n",
    "\n",
    "            series_tnac = pd.DataFrame({})\n",
    "            series_hombres = pd.DataFrame({})\n",
    "            series_mujeres = pd.DataFrame({})\n",
    "\n",
    "            for i in ind:\n",
    "\n",
    "                # Total Nacional\n",
    "                ser_index_nac = df[df.applymap(lambda x: str(x).lower().replace(' ','_') == i)].dropna(how='all',axis=0).index[0]\n",
    "\n",
    "                if ser_index_nac:\n",
    "                    ser = df.iloc[ser_index_nac,1:].rename(i) \n",
    "                    if i == 'tgp' or i== 'to' or i == 'td' or i == 't.d._abierto' or i == 't.d._oculto':\n",
    "                        ser = ser.set_axis(pd.date_range(start='2001-01-01',periods=len(ser),freq='M')).astype('float')\n",
    "                    else:\n",
    "                        ser = ser.set_axis(pd.date_range(start='2001-01-01',periods=len(ser),freq='M')).astype('float')*1000\n",
    "                    series_tnac[i] = ser\n",
    "\n",
    "                #Hombres\n",
    "                ser_index_hom = df[df.applymap(lambda x: str(x).lower().replace(' ','_') == i)].dropna(how='all',axis=0).index[1]\n",
    "\n",
    "                if ser_index_hom:\n",
    "                    ser = df.iloc[ser_index_hom,1:].rename(i)  \n",
    "                    if i == 'tgp' or i== 'to' or i == 'td' or i == 't.d._abierto' or i == 't.d._oculto':\n",
    "                        ser = ser.set_axis(pd.date_range(start='2001-01-01',periods=len(ser),freq='M')).astype('float')\n",
    "                    else:\n",
    "                        ser = ser.set_axis(pd.date_range(start='2001-01-01',periods=len(ser),freq='M')).astype('float')*1000\n",
    "                    series_hombres[i] = ser\n",
    "\n",
    "                #Mujeres\n",
    "                ser_index_muj = df[df.applymap(lambda x: str(x).lower().replace(' ','_') == i)].dropna(how='all',axis=0).index[2]\n",
    "\n",
    "                if ser_index_muj:\n",
    "                    ser = df.iloc[ser_index_muj,1:].rename(i)  \n",
    "                    if i == 'tgp' or i== 'to' or i == 'td' or i == 't.d._abierto' or i == 't.d._oculto':\n",
    "                        ser = ser.set_axis(pd.date_range(start='2001-01-01',periods=len(ser),freq='M')).astype('float')\n",
    "                    else:\n",
    "                        ser = ser.set_axis(pd.date_range(start='2001-01-01',periods=len(ser),freq='M')).astype('float')*1000\n",
    "                    series_mujeres[i] = ser\n",
    "\n",
    "    series_tnac.to_csv(path+\"\\sexo_tnac.csv\",sep=';',decimal=',')\n",
    "    series_hombres.to_csv(path+\"\\sexo_hombres.csv\",sep=';',decimal=',')\n",
    "    series_hombres.to_csv(path+\"\\sexo_mujeres.csv\",sep=';',decimal=',')\n",
    "    os.remove(path+\"\\{}\".format(dane_sexo_nombre))"
   ]
  },
  {
   "cell_type": "code",
   "execution_count": 4,
   "id": "surrounded-williams",
   "metadata": {},
   "outputs": [],
   "source": [
    "from selenium import webdriver\n",
    "from selenium.common.exceptions import StaleElementReferenceException\n",
    "from selenium.common.exceptions import NoSuchElementException\n",
    "from selenium.webdriver.common.keys import Keys\n",
    "from selenium.webdriver.support.ui import WebDriverWait \n",
    "from selenium.webdriver.support import expected_conditions as EC\n",
    "from selenium.webdriver.common.by import By\n",
    "from selenium.webdriver.chrome.options import Options\n",
    "\n",
    "import urllib3\n",
    "import csv"
   ]
  },
  {
   "cell_type": "code",
   "execution_count": 68,
   "id": "streaming-source",
   "metadata": {},
   "outputs": [],
   "source": [
    "options = webdriver.ChromeOptions()\n",
    "options.add_argument('--start-maximized')\n",
    "options.add_argument('--disable-extensions')\n",
    "options.add_experimental_option(\"prefs\", {\"download.default_directory\":r\"D:\\Desktop\\HUB\\mercado_laboral\", \"download.prompt_for_download\": False,\n",
    "\"download.directory_upgrade\": True,\n",
    "\"safebrowsing.enabled\": True}) \n",
    "\n",
    "#Excepciones\n",
    "ignored_exceptions=(NoSuchElementException,StaleElementReferenceException,)\n",
    "\n",
    "###########################################################\n",
    "################ OJO #####################################\n",
    "\n",
    "# Deben descargar el chromedirver.exe en https://chromedriver.chromium.org/ si su navegador prederminado es chrome\n",
    "driver_path = \"C:/Users/Laptop/HUB_DAMAC/chromedriver.exe\" #corresponde a la carpeta en la que guardo el archivo\n",
    "driver = webdriver.Chrome(driver_path, options=options)\n",
    "\n",
    "driver.get(\"https://www.dane.gov.co/index.php/estadisticas-por-tema/mercado-laboral/segun-sexo/mercado-laboral-historicos\")\n",
    "\n",
    "try:\n",
    "    WebDriverWait(driver,5)\\\n",
    "    .until(EC.element_to_be_clickable((By.LINK_TEXT,\"Anexos\")))\\\n",
    "    .click()\n",
    "except:\n",
    "    print('Hubo un problema al descargar el desempleo desestacionalizado ')\n"
   ]
  },
  {
   "cell_type": "code",
   "execution_count": 18,
   "id": "subsequent-treaty",
   "metadata": {},
   "outputs": [],
   "source": [
    "clean_desempleo_empleo_sexo(r\"D:\\Desktop\\HUB\\mercado_laboral\")"
   ]
  },
  {
   "cell_type": "code",
   "execution_count": 21,
   "id": "unlimited-graphic",
   "metadata": {},
   "outputs": [],
   "source": [
    "from limpieza import limpieza_mercado_laboral"
   ]
  },
  {
   "cell_type": "code",
   "execution_count": 22,
   "id": "brilliant-healing",
   "metadata": {},
   "outputs": [],
   "source": [
    "l = limpieza_mercado_laboral()"
   ]
  },
  {
   "cell_type": "code",
   "execution_count": null,
   "id": "unable-conjunction",
   "metadata": {},
   "outputs": [],
   "source": []
  },
  {
   "cell_type": "code",
   "execution_count": null,
   "id": "comprehensive-stuart",
   "metadata": {},
   "outputs": [],
   "source": []
  },
  {
   "cell_type": "code",
   "execution_count": null,
   "id": "sudden-executive",
   "metadata": {},
   "outputs": [],
   "source": []
  },
  {
   "cell_type": "code",
   "execution_count": null,
   "id": "dangerous-recommendation",
   "metadata": {},
   "outputs": [],
   "source": []
  },
  {
   "cell_type": "code",
   "execution_count": null,
   "id": "gorgeous-month",
   "metadata": {},
   "outputs": [],
   "source": []
  },
  {
   "cell_type": "markdown",
   "id": "negative-airplane",
   "metadata": {},
   "source": [
    "****\n",
    "___"
   ]
  },
  {
   "cell_type": "code",
   "execution_count": 1,
   "id": "gross-hydrogen",
   "metadata": {},
   "outputs": [],
   "source": [
    "from HUB import HUB_DAMAC"
   ]
  },
  {
   "cell_type": "code",
   "execution_count": 2,
   "id": "associate-participant",
   "metadata": {},
   "outputs": [],
   "source": [
    "laboral = HUB_DAMAC.mercado_laboral()"
   ]
  },
  {
   "cell_type": "code",
   "execution_count": 3,
   "id": "bacterial-kuwait",
   "metadata": {},
   "outputs": [
    {
     "data": {
      "text/html": [
       "<div>\n",
       "<style scoped>\n",
       "    .dataframe tbody tr th:only-of-type {\n",
       "        vertical-align: middle;\n",
       "    }\n",
       "\n",
       "    .dataframe tbody tr th {\n",
       "        vertical-align: top;\n",
       "    }\n",
       "\n",
       "    .dataframe thead th {\n",
       "        text-align: right;\n",
       "    }\n",
       "</style>\n",
       "<table border=\"1\" class=\"dataframe\">\n",
       "  <thead>\n",
       "    <tr style=\"text-align: right;\">\n",
       "      <th></th>\n",
       "      <th>Indicador</th>\n",
       "      <th>Frecuencia</th>\n",
       "      <th>Fuente</th>\n",
       "    </tr>\n",
       "  </thead>\n",
       "  <tbody>\n",
       "    <tr>\n",
       "      <th>0</th>\n",
       "      <td>Tasa de desempleo</td>\n",
       "      <td>Mensual</td>\n",
       "      <td>https://totoro.banrep.gov.co/estadisticas-econ...</td>\n",
       "    </tr>\n",
       "    <tr>\n",
       "      <th>1</th>\n",
       "      <td>Tasa de ocupación</td>\n",
       "      <td>Mensual</td>\n",
       "      <td>https://totoro.banrep.gov.co/estadisticas-econ...</td>\n",
       "    </tr>\n",
       "    <tr>\n",
       "      <th>2</th>\n",
       "      <td>Tasa global de participación</td>\n",
       "      <td>Mensual</td>\n",
       "      <td>https://totoro.banrep.gov.co/estadisticas-econ...</td>\n",
       "    </tr>\n",
       "    <tr>\n",
       "      <th>3</th>\n",
       "      <td>Informalidad</td>\n",
       "      <td>Trimestral</td>\n",
       "      <td>https://www.dane.gov.co/index.php/estadisticas...</td>\n",
       "    </tr>\n",
       "    <tr>\n",
       "      <th>4</th>\n",
       "      <td>Desempleo desestacionalizado</td>\n",
       "      <td>Mensual</td>\n",
       "      <td>https://www.dane.gov.co/index.php/estadisticas...</td>\n",
       "    </tr>\n",
       "    <tr>\n",
       "      <th>5</th>\n",
       "      <td>Desempleo por sexo</td>\n",
       "      <td>Trimestre móvil</td>\n",
       "      <td>https://www.dane.gov.co/index.php/estadisticas...</td>\n",
       "    </tr>\n",
       "  </tbody>\n",
       "</table>\n",
       "</div>"
      ],
      "text/plain": [
       "                      Indicador       Frecuencia  \\\n",
       "0             Tasa de desempleo          Mensual   \n",
       "1             Tasa de ocupación          Mensual   \n",
       "2  Tasa global de participación          Mensual   \n",
       "3                  Informalidad       Trimestral   \n",
       "4  Desempleo desestacionalizado          Mensual   \n",
       "5            Desempleo por sexo  Trimestre móvil   \n",
       "\n",
       "                                              Fuente  \n",
       "0  https://totoro.banrep.gov.co/estadisticas-econ...  \n",
       "1  https://totoro.banrep.gov.co/estadisticas-econ...  \n",
       "2  https://totoro.banrep.gov.co/estadisticas-econ...  \n",
       "3  https://www.dane.gov.co/index.php/estadisticas...  \n",
       "4  https://www.dane.gov.co/index.php/estadisticas...  \n",
       "5  https://www.dane.gov.co/index.php/estadisticas...  "
      ]
     },
     "execution_count": 3,
     "metadata": {},
     "output_type": "execute_result"
    }
   ],
   "source": [
    "laboral.fuente_laboral"
   ]
  },
  {
   "cell_type": "code",
   "execution_count": 4,
   "id": "worth-sheriff",
   "metadata": {},
   "outputs": [
    {
     "name": "stderr",
     "output_type": "stream",
     "text": [
      "C:\\Programas\\Miniconda\\envs\\hubdamac\\lib\\site-packages\\openpyxl\\worksheet\\header_footer.py:48: UserWarning: Cannot parse header or footer so it will be ignored\n",
      "  warn(\"\"\"Cannot parse header or footer so it will be ignored\"\"\")\n"
     ]
    }
   ],
   "source": [
    "laboral.actualizar(carpeta=r\"D:\\Desktop\\HUB\\mercado_laboral\",actualizar_todo=False,\n",
    "                   indicadores=['Desempleo desestacionalizado',\"Desempleo por sexo\"],\n",
    "                   excel = True,hipervinculos=False)"
   ]
  },
  {
   "cell_type": "code",
   "execution_count": null,
   "id": "harmful-prison",
   "metadata": {},
   "outputs": [],
   "source": []
  }
 ],
 "metadata": {
  "kernelspec": {
   "display_name": "hubdamac",
   "language": "python",
   "name": "hubdamac"
  },
  "language_info": {
   "codemirror_mode": {
    "name": "ipython",
    "version": 3
   },
   "file_extension": ".py",
   "mimetype": "text/x-python",
   "name": "python",
   "nbconvert_exporter": "python",
   "pygments_lexer": "ipython3",
   "version": "3.7.5"
  },
  "toc": {
   "base_numbering": 1,
   "nav_menu": {},
   "number_sections": true,
   "sideBar": true,
   "skip_h1_title": false,
   "title_cell": "Table of Contents",
   "title_sidebar": "Contents",
   "toc_cell": false,
   "toc_position": {},
   "toc_section_display": true,
   "toc_window_display": false
  },
  "varInspector": {
   "cols": {
    "lenName": 16,
    "lenType": 16,
    "lenVar": 40
   },
   "kernels_config": {
    "python": {
     "delete_cmd_postfix": "",
     "delete_cmd_prefix": "del ",
     "library": "var_list.py",
     "varRefreshCmd": "print(var_dic_list())"
    },
    "r": {
     "delete_cmd_postfix": ") ",
     "delete_cmd_prefix": "rm(",
     "library": "var_list.r",
     "varRefreshCmd": "cat(var_dic_list()) "
    }
   },
   "types_to_exclude": [
    "module",
    "function",
    "builtin_function_or_method",
    "instance",
    "_Feature"
   ],
   "window_display": false
  }
 },
 "nbformat": 4,
 "nbformat_minor": 5
}
