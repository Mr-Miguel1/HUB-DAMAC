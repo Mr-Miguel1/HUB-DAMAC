{
 "cells": [
  {
   "cell_type": "code",
   "execution_count": 1,
   "id": "roman-entrepreneur",
   "metadata": {},
   "outputs": [],
   "source": [
    "from HUB import HUB_DAMAC"
   ]
  },
  {
   "cell_type": "code",
   "execution_count": 2,
   "id": "naked-bennett",
   "metadata": {},
   "outputs": [],
   "source": [
    "%config Completer.use_jedi = False"
   ]
  },
  {
   "cell_type": "code",
   "execution_count": 3,
   "id": "demanding-titanium",
   "metadata": {},
   "outputs": [],
   "source": [
    "laboral = HUB_DAMAC.mercado_laboral()"
   ]
  },
  {
   "cell_type": "code",
   "execution_count": 4,
   "id": "rotary-mechanism",
   "metadata": {},
   "outputs": [
    {
     "data": {
      "text/html": [
       "<div>\n",
       "<style scoped>\n",
       "    .dataframe tbody tr th:only-of-type {\n",
       "        vertical-align: middle;\n",
       "    }\n",
       "\n",
       "    .dataframe tbody tr th {\n",
       "        vertical-align: top;\n",
       "    }\n",
       "\n",
       "    .dataframe thead th {\n",
       "        text-align: right;\n",
       "    }\n",
       "</style>\n",
       "<table border=\"1\" class=\"dataframe\">\n",
       "  <thead>\n",
       "    <tr style=\"text-align: right;\">\n",
       "      <th></th>\n",
       "      <th>Indicador</th>\n",
       "      <th>Frecuencia</th>\n",
       "      <th>Fuente</th>\n",
       "    </tr>\n",
       "  </thead>\n",
       "  <tbody>\n",
       "    <tr>\n",
       "      <th>0</th>\n",
       "      <td>Tasa de desempleo</td>\n",
       "      <td>Mensual</td>\n",
       "      <td>https://totoro.banrep.gov.co/estadisticas-econ...</td>\n",
       "    </tr>\n",
       "    <tr>\n",
       "      <th>1</th>\n",
       "      <td>Tasa de ocupación</td>\n",
       "      <td>Mensual</td>\n",
       "      <td>https://totoro.banrep.gov.co/estadisticas-econ...</td>\n",
       "    </tr>\n",
       "    <tr>\n",
       "      <th>2</th>\n",
       "      <td>Tasa global de participación</td>\n",
       "      <td>Mensual</td>\n",
       "      <td>https://totoro.banrep.gov.co/estadisticas-econ...</td>\n",
       "    </tr>\n",
       "    <tr>\n",
       "      <th>3</th>\n",
       "      <td>Informalidad</td>\n",
       "      <td>Trimestral</td>\n",
       "      <td>https://www.dane.gov.co/index.php/estadisticas...</td>\n",
       "    </tr>\n",
       "    <tr>\n",
       "      <th>4</th>\n",
       "      <td>Desempleo_desestacionalizado</td>\n",
       "      <td>Mensual</td>\n",
       "      <td>https://www.dane.gov.co/index.php/estadisticas...</td>\n",
       "    </tr>\n",
       "    <tr>\n",
       "      <th>5</th>\n",
       "      <td>Desempleo_por_sexo</td>\n",
       "      <td>Trimestre móvil</td>\n",
       "      <td>https://www.dane.gov.co/index.php/estadisticas...</td>\n",
       "    </tr>\n",
       "    <tr>\n",
       "      <th>6</th>\n",
       "      <td>Desempleo_por_region</td>\n",
       "      <td>Semestral</td>\n",
       "      <td>https://www.dane.gov.co/index.php/estadisticas...</td>\n",
       "    </tr>\n",
       "    <tr>\n",
       "      <th>7</th>\n",
       "      <td>Desempleo_estacionalizado</td>\n",
       "      <td>Trimestre móvil</td>\n",
       "      <td>https://www.dane.gov.co/index.php/estadisticas...</td>\n",
       "    </tr>\n",
       "  </tbody>\n",
       "</table>\n",
       "</div>"
      ],
      "text/plain": [
       "                      Indicador       Frecuencia  \\\n",
       "0             Tasa de desempleo          Mensual   \n",
       "1             Tasa de ocupación          Mensual   \n",
       "2  Tasa global de participación          Mensual   \n",
       "3                  Informalidad       Trimestral   \n",
       "4  Desempleo_desestacionalizado          Mensual   \n",
       "5            Desempleo_por_sexo  Trimestre móvil   \n",
       "6          Desempleo_por_region        Semestral   \n",
       "7     Desempleo_estacionalizado  Trimestre móvil   \n",
       "\n",
       "                                              Fuente  \n",
       "0  https://totoro.banrep.gov.co/estadisticas-econ...  \n",
       "1  https://totoro.banrep.gov.co/estadisticas-econ...  \n",
       "2  https://totoro.banrep.gov.co/estadisticas-econ...  \n",
       "3  https://www.dane.gov.co/index.php/estadisticas...  \n",
       "4  https://www.dane.gov.co/index.php/estadisticas...  \n",
       "5  https://www.dane.gov.co/index.php/estadisticas...  \n",
       "6  https://www.dane.gov.co/index.php/estadisticas...  \n",
       "7  https://www.dane.gov.co/index.php/estadisticas...  "
      ]
     },
     "execution_count": 4,
     "metadata": {},
     "output_type": "execute_result"
    }
   ],
   "source": [
    "laboral.indicadores_mercado_laboral"
   ]
  },
  {
   "cell_type": "code",
   "execution_count": 5,
   "id": "reverse-liberty",
   "metadata": {},
   "outputs": [
    {
     "name": "stderr",
     "output_type": "stream",
     "text": [
      "C:\\Programas\\Miniconda\\envs\\hubdamac\\lib\\site-packages\\openpyxl\\worksheet\\header_footer.py:48: UserWarning: Cannot parse header or footer so it will be ignored\n",
      "  warn(\"\"\"Cannot parse header or footer so it will be ignored\"\"\")\n",
      "C:\\Programas\\Miniconda\\envs\\hubdamac\\lib\\site-packages\\openpyxl\\worksheet\\header_footer.py:48: UserWarning: Cannot parse header or footer so it will be ignored\n",
      "  warn(\"\"\"Cannot parse header or footer so it will be ignored\"\"\")\n"
     ]
    }
   ],
   "source": [
    "laboral.actualizar(carpeta=r\"D:\\Desktop\\Mercado Laboral\",\n",
    "                   actualizar_todo=True,\n",
    "                   excel = True,\n",
    "                   hipervinculos=True,t=15)"
   ]
  },
  {
   "cell_type": "code",
   "execution_count": null,
   "id": "variable-settle",
   "metadata": {},
   "outputs": [],
   "source": []
  },
  {
   "cell_type": "code",
   "execution_count": null,
   "id": "wireless-bandwidth",
   "metadata": {},
   "outputs": [],
   "source": [
    "import numpy as np"
   ]
  },
  {
   "cell_type": "markdown",
   "id": "extra-arnold",
   "metadata": {},
   "source": [
    "***\n",
    "___"
   ]
  },
  {
   "cell_type": "code",
   "execution_count": null,
   "id": "cloudy-warrior",
   "metadata": {},
   "outputs": [],
   "source": [
    "str(np.random.randint(100,999,1)[0])"
   ]
  },
  {
   "cell_type": "code",
   "execution_count": null,
   "id": "spread-cooper",
   "metadata": {},
   "outputs": [],
   "source": [
    "l[10:40]"
   ]
  },
  {
   "cell_type": "code",
   "execution_count": null,
   "id": "outdoor-clear",
   "metadata": {},
   "outputs": [],
   "source": [
    "len(l[10:40])"
   ]
  },
  {
   "cell_type": "code",
   "execution_count": null,
   "id": "dimensional-equation",
   "metadata": {},
   "outputs": [],
   "source": [
    "l[:10] + l[20:30] + l[-20:-4]"
   ]
  }
 ],
 "metadata": {
  "kernelspec": {
   "display_name": "hubdamac",
   "language": "python",
   "name": "hubdamac"
  },
  "language_info": {
   "codemirror_mode": {
    "name": "ipython",
    "version": 3
   },
   "file_extension": ".py",
   "mimetype": "text/x-python",
   "name": "python",
   "nbconvert_exporter": "python",
   "pygments_lexer": "ipython3",
   "version": "3.7.5"
  },
  "toc": {
   "base_numbering": 1,
   "nav_menu": {},
   "number_sections": true,
   "sideBar": true,
   "skip_h1_title": false,
   "title_cell": "Table of Contents",
   "title_sidebar": "Contents",
   "toc_cell": false,
   "toc_position": {},
   "toc_section_display": true,
   "toc_window_display": false
  },
  "varInspector": {
   "cols": {
    "lenName": 16,
    "lenType": 16,
    "lenVar": 40
   },
   "kernels_config": {
    "python": {
     "delete_cmd_postfix": "",
     "delete_cmd_prefix": "del ",
     "library": "var_list.py",
     "varRefreshCmd": "print(var_dic_list())"
    },
    "r": {
     "delete_cmd_postfix": ") ",
     "delete_cmd_prefix": "rm(",
     "library": "var_list.r",
     "varRefreshCmd": "cat(var_dic_list()) "
    }
   },
   "types_to_exclude": [
    "module",
    "function",
    "builtin_function_or_method",
    "instance",
    "_Feature"
   ],
   "window_display": false
  }
 },
 "nbformat": 4,
 "nbformat_minor": 5
}
