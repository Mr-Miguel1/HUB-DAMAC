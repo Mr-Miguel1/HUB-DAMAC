{
 "cells": [
  {
   "cell_type": "code",
   "execution_count": 1,
   "id": "purple-probability",
   "metadata": {},
   "outputs": [],
   "source": [
    "%config Completer.use_jedi = False"
   ]
  },
  {
   "cell_type": "code",
   "execution_count": 2,
   "id": "given-imagination",
   "metadata": {},
   "outputs": [],
   "source": [
    "from HUB import HUB_DAMAC"
   ]
  },
  {
   "cell_type": "code",
   "execution_count": 3,
   "id": "laughing-rogers",
   "metadata": {},
   "outputs": [],
   "source": [
    "laboral = HUB_DAMAC.mercado_laboral()"
   ]
  },
  {
   "cell_type": "code",
   "execution_count": 4,
   "id": "negative-jason",
   "metadata": {},
   "outputs": [
    {
     "name": "stdout",
     "output_type": "stream",
     "text": [
      "No se pudo limpiar correctamente la tasa de informalidad\n"
     ]
    }
   ],
   "source": [
    "laboral.actualizar(carpeta=r\"D:\\Desktop\\HUB\\mercado_laboral\",actualizar_todo=True,excel=True,hipervinculos=True)"
   ]
  },
  {
   "cell_type": "code",
   "execution_count": null,
   "id": "paperback-appliance",
   "metadata": {},
   "outputs": [],
   "source": []
  }
 ],
 "metadata": {
  "kernelspec": {
   "display_name": "hubdamac",
   "language": "python",
   "name": "hubdamac"
  },
  "toc": {
   "base_numbering": 1,
   "nav_menu": {},
   "number_sections": true,
   "sideBar": true,
   "skip_h1_title": false,
   "title_cell": "Table of Contents",
   "title_sidebar": "Contents",
   "toc_cell": false,
   "toc_position": {},
   "toc_section_display": true,
   "toc_window_display": false
  },
  "varInspector": {
   "cols": {
    "lenName": 16,
    "lenType": 16,
    "lenVar": 40
   },
   "kernels_config": {
    "python": {
     "delete_cmd_postfix": "",
     "delete_cmd_prefix": "del ",
     "library": "var_list.py",
     "varRefreshCmd": "print(var_dic_list())"
    },
    "r": {
     "delete_cmd_postfix": ") ",
     "delete_cmd_prefix": "rm(",
     "library": "var_list.r",
     "varRefreshCmd": "cat(var_dic_list()) "
    }
   },
   "types_to_exclude": [
    "module",
    "function",
    "builtin_function_or_method",
    "instance",
    "_Feature"
   ],
   "window_display": false
  }
 },
 "nbformat": 4,
 "nbformat_minor": 5
}
