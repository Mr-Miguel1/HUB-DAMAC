{
 "cells": [
  {
   "cell_type": "code",
   "execution_count": 1,
   "id": "purple-probability",
   "metadata": {},
   "outputs": [],
   "source": [
    "%config Completer.use_jedi = False"
   ]
  },
  {
   "cell_type": "code",
   "execution_count": 4,
   "id": "latest-patio",
   "metadata": {},
   "outputs": [],
   "source": [
    "from HUB import HUB_DAMAC"
   ]
  },
  {
   "cell_type": "code",
   "execution_count": 5,
   "id": "supported-crowd",
   "metadata": {},
   "outputs": [],
   "source": [
    "laboral = HUB_DAMAC.mercado_laboral()"
   ]
  },
  {
   "cell_type": "code",
   "execution_count": null,
   "id": "small-merit",
   "metadata": {},
   "outputs": [],
   "source": [
    "laboral.actualizar(carpeta=\"D:/Desktop/HUB/mercado_laboral/\",actualizar_todo=True,excel=True,hipervinculos=True)"
   ]
  },
  {
   "cell_type": "code",
   "execution_count": null,
   "id": "alike-drilling",
   "metadata": {},
   "outputs": [],
   "source": []
  }
 ],
 "metadata": {
  "kernelspec": {
   "display_name": "hubdamac",
   "language": "python",
   "name": "hubdamac"
  },
  "language_info": {
   "codemirror_mode": {
    "name": "ipython",
    "version": 3
   },
   "file_extension": ".py",
   "mimetype": "text/x-python",
   "name": "python",
   "nbconvert_exporter": "python",
   "pygments_lexer": "ipython3",
   "version": "3.7.5"
  },
  "toc": {
   "base_numbering": 1,
   "nav_menu": {},
   "number_sections": true,
   "sideBar": true,
   "skip_h1_title": false,
   "title_cell": "Table of Contents",
   "title_sidebar": "Contents",
   "toc_cell": false,
   "toc_position": {},
   "toc_section_display": true,
   "toc_window_display": false
  },
  "varInspector": {
   "cols": {
    "lenName": 16,
    "lenType": 16,
    "lenVar": 40
   },
   "kernels_config": {
    "python": {
     "delete_cmd_postfix": "",
     "delete_cmd_prefix": "del ",
     "library": "var_list.py",
     "varRefreshCmd": "print(var_dic_list())"
    },
    "r": {
     "delete_cmd_postfix": ") ",
     "delete_cmd_prefix": "rm(",
     "library": "var_list.r",
     "varRefreshCmd": "cat(var_dic_list()) "
    }
   },
   "types_to_exclude": [
    "module",
    "function",
    "builtin_function_or_method",
    "instance",
    "_Feature"
   ],
   "window_display": false
  }
 },
 "nbformat": 4,
 "nbformat_minor": 5
}
